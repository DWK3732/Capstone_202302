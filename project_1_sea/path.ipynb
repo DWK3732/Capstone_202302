{
 "cells": [
  {
   "cell_type": "code",
   "execution_count": 11,
   "id": "f6798d7b-ea00-4c1a-8d11-b9db016d4ae0",
   "metadata": {},
   "outputs": [],
   "source": [
    "import pandas as pd\n",
    "import numpy as np\n",
    "import folium\n",
    "\n",
    "\n",
    "for index in range(7):\n",
    "\n",
    "    # 1. csv 파일 읽기\n",
    "    data = pd.read_csv(f'predictions_{index}.csv')\n",
    "\n",
    "    # 2. 필요한 데이터 추출\n",
    "    lons = data['lons'].values\n",
    "    lats = data['lats'].values\n",
    "    times = data['time'].values\n",
    "\n",
    "    last_lon = data['next_lons'].values[-1]\n",
    "    last_lat = data['next_lats'].values[-1]\n",
    "    last_time = data['next_time'].values[-1]\n",
    "\n",
    "    lons=np.append(lons,last_lon)\n",
    "    lats=np.append(lats,last_lat)\n",
    "    times=np.append(times,last_time)\n",
    "    \n",
    "    # 3. 지도에 데이터 표시하기\n",
    "    # 초기 지도 위치와 확대 정도 설정 (예시: 첫 번째 데이터를 중심으로)\n",
    "    m = folium.Map(location=[lats[0], lons[0]], zoom_start=10)\n",
    "\n",
    "    # 각 위치에 마커와 선 추가하기\n",
    "    for lat, lon, time in zip(lats, lons, times):\n",
    "        folium.Marker([lat, lon], tooltip=f\"Time: {int(time)} hours since 2016-01-01 00:00\").add_to(m)\n",
    "        \n",
    "    folium.PolyLine(list(zip(lats, lons)), color=\"blue\", weight=2.5).add_to(m)\n",
    "\n",
    "    # 4. html 파일로 저장하기(interactive map)\n",
    "    m.save(f'map_{index}.html')"
   ]
  },
  {
   "cell_type": "code",
   "execution_count": 10,
   "id": "64962062-c582-4254-8da3-e0ca8887a0f8",
   "metadata": {},
   "outputs": [
    {
     "name": "stdout",
     "output_type": "stream",
     "text": [
      "[4824. 4830. 4836. 4842. 4848. 4854. 4860. 4866. 4872. 4878. 4884. 4890.\n",
      " 4896. 4902. 4908. 4914. 4920. 4926. 4932. 4938. 4944. 4950. 4956. 4962.\n",
      " 4968. 4974. 4980. 4986. 4992. 4998. 5004. 5010. 5016. 5022. 5028. 5034.\n",
      " 5040. 5046. 5052. 5058. 5064. 5070. 5076. 5082. 5088. 5094. 5100. 5106.\n",
      " 5112. 5118. 5124. 5130. 5136. 5142. 5148. 5154. 5160. 5166. 5172. 5178.\n",
      " 5184. 5190. 5196. 5202. 5208. 5214. 5220. 5226. 5232. 5238. 5244. 5250.\n",
      " 5256. 5262. 5268. 5274. 5280. 5286. 5292. 5298. 5304. 5310. 5316. 5322.\n",
      " 5328. 5334. 5340. 5346. 5352. 5358. 5364. 5370. 5376. 5382. 5388. 5394.\n",
      " 5400. 5406. 5412. 5418. 5424. 5430. 5436. 5442. 5448. 5454. 5460. 5466.\n",
      " 5472. 5478. 5484. 5490. 5496. 5502. 5508. 5514. 5520. 5526. 5532. 5538.\n",
      " 5544. 5550. 5556. 5562. 5568. 5574. 5580. 5586. 5592. 5598. 5604. 5610.\n",
      " 5616. 5622. 5628. 5634. 5640. 5646. 5652. 5658. 5664. 5670. 5676. 5682.\n",
      " 5688. 5694. 5700. 5706. 5712. 5718. 5724. 5730. 5736. 5742. 5748. 5754.\n",
      " 5760. 5766. 5772. 5778. 5784. 5790. 5796. 5802. 5808. 5814. 5820. 5826.\n",
      " 5832. 5838. 5844. 5850. 5856. 5862. 5868. 5874. 5880. 5886. 5892. 5898.\n",
      " 5904. 5910. 5916. 5922. 5928. 5934. 5940. 5946.]\n",
      "5946.0\n"
     ]
    }
   ],
   "source": [
    "print(times)\n",
    "print(last_time)"
   ]
  }
 ],
 "metadata": {
  "kernelspec": {
   "display_name": "Python 3 (ipykernel)",
   "language": "python",
   "name": "python3"
  },
  "language_info": {
   "codemirror_mode": {
    "name": "ipython",
    "version": 3
   },
   "file_extension": ".py",
   "mimetype": "text/x-python",
   "name": "python",
   "nbconvert_exporter": "python",
   "pygments_lexer": "ipython3",
   "version": "3.11.5"
  }
 },
 "nbformat": 4,
 "nbformat_minor": 5
}
