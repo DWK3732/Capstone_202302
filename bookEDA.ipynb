{
 "cells": [
  {
   "cell_type": "code",
   "execution_count": 31,
   "id": "bf20820c-db51-4acb-a444-184b7816d4a1",
   "metadata": {},
   "outputs": [],
   "source": [
    "import pandas as pd\n",
    "import numpy as np\n",
    "import seaborn as sns\n",
    "import matplotlib.pyplot as plt"
   ]
  },
  {
   "cell_type": "code",
   "execution_count": 55,
   "id": "fa10d7b0-2c43-4802-9065-8ea20df8ab49",
   "metadata": {},
   "outputs": [
    {
     "name": "stdout",
     "output_type": "stream",
     "text": [
      "Index(['ID', 'User-ID', 'Book-ID', 'Book-Rating', 'Age', 'Location',\n",
      "       'Book-Title', 'Book-Author', 'Year-Of-Publication', 'Publisher'],\n",
      "      dtype='object')\n",
      "(871393, 10)\n",
      "ID                      object\n",
      "User-ID                 object\n",
      "Book-ID                 object\n",
      "Book-Rating              int64\n",
      "Age                    float64\n",
      "Location                object\n",
      "Book-Title              object\n",
      "Book-Author             object\n",
      "Year-Of-Publication    float64\n",
      "Publisher               object\n",
      "dtype: object\n"
     ]
    },
    {
     "data": {
      "text/html": [
       "<div>\n",
       "<style scoped>\n",
       "    .dataframe tbody tr th:only-of-type {\n",
       "        vertical-align: middle;\n",
       "    }\n",
       "\n",
       "    .dataframe tbody tr th {\n",
       "        vertical-align: top;\n",
       "    }\n",
       "\n",
       "    .dataframe thead th {\n",
       "        text-align: right;\n",
       "    }\n",
       "</style>\n",
       "<table border=\"1\" class=\"dataframe\">\n",
       "  <thead>\n",
       "    <tr style=\"text-align: right;\">\n",
       "      <th></th>\n",
       "      <th>ID</th>\n",
       "      <th>User-ID</th>\n",
       "      <th>Book-ID</th>\n",
       "      <th>Book-Rating</th>\n",
       "      <th>Age</th>\n",
       "      <th>Location</th>\n",
       "      <th>Book-Title</th>\n",
       "      <th>Book-Author</th>\n",
       "      <th>Year-Of-Publication</th>\n",
       "      <th>Publisher</th>\n",
       "    </tr>\n",
       "  </thead>\n",
       "  <tbody>\n",
       "    <tr>\n",
       "      <th>0</th>\n",
       "      <td>TRAIN_000000</td>\n",
       "      <td>USER_00000</td>\n",
       "      <td>BOOK_044368</td>\n",
       "      <td>8</td>\n",
       "      <td>23.0</td>\n",
       "      <td>sackville, new brunswick, canada</td>\n",
       "      <td>Road Taken</td>\n",
       "      <td>Rona Jaffe</td>\n",
       "      <td>2001.0</td>\n",
       "      <td>Mira</td>\n",
       "    </tr>\n",
       "    <tr>\n",
       "      <th>1</th>\n",
       "      <td>TRAIN_000001</td>\n",
       "      <td>USER_00000</td>\n",
       "      <td>BOOK_081205</td>\n",
       "      <td>8</td>\n",
       "      <td>23.0</td>\n",
       "      <td>sackville, new brunswick, canada</td>\n",
       "      <td>Macbeth (New Penguin Shakespeare)</td>\n",
       "      <td>William Shakespeare</td>\n",
       "      <td>1981.0</td>\n",
       "      <td>Penguin Books</td>\n",
       "    </tr>\n",
       "    <tr>\n",
       "      <th>2</th>\n",
       "      <td>TRAIN_000002</td>\n",
       "      <td>USER_00000</td>\n",
       "      <td>BOOK_086781</td>\n",
       "      <td>0</td>\n",
       "      <td>23.0</td>\n",
       "      <td>sackville, new brunswick, canada</td>\n",
       "      <td>Waverley (Penguin English Library)</td>\n",
       "      <td>Walter Scott</td>\n",
       "      <td>1981.0</td>\n",
       "      <td>Penguin Books</td>\n",
       "    </tr>\n",
       "    <tr>\n",
       "      <th>3</th>\n",
       "      <td>TRAIN_000003</td>\n",
       "      <td>USER_00000</td>\n",
       "      <td>BOOK_098622</td>\n",
       "      <td>0</td>\n",
       "      <td>23.0</td>\n",
       "      <td>sackville, new brunswick, canada</td>\n",
       "      <td>Mother Earth Father Sky</td>\n",
       "      <td>Sue Harrison</td>\n",
       "      <td>1991.0</td>\n",
       "      <td>Avon</td>\n",
       "    </tr>\n",
       "    <tr>\n",
       "      <th>4</th>\n",
       "      <td>TRAIN_000004</td>\n",
       "      <td>USER_00000</td>\n",
       "      <td>BOOK_180810</td>\n",
       "      <td>8</td>\n",
       "      <td>23.0</td>\n",
       "      <td>sackville, new brunswick, canada</td>\n",
       "      <td>She Who Remembers</td>\n",
       "      <td>Linda Lay Shuler</td>\n",
       "      <td>1989.0</td>\n",
       "      <td>Signet Book</td>\n",
       "    </tr>\n",
       "  </tbody>\n",
       "</table>\n",
       "</div>"
      ],
      "text/plain": [
       "             ID     User-ID      Book-ID  Book-Rating   Age  \\\n",
       "0  TRAIN_000000  USER_00000  BOOK_044368            8  23.0   \n",
       "1  TRAIN_000001  USER_00000  BOOK_081205            8  23.0   \n",
       "2  TRAIN_000002  USER_00000  BOOK_086781            0  23.0   \n",
       "3  TRAIN_000003  USER_00000  BOOK_098622            0  23.0   \n",
       "4  TRAIN_000004  USER_00000  BOOK_180810            8  23.0   \n",
       "\n",
       "                           Location                          Book-Title  \\\n",
       "0  sackville, new brunswick, canada                          Road Taken   \n",
       "1  sackville, new brunswick, canada   Macbeth (New Penguin Shakespeare)   \n",
       "2  sackville, new brunswick, canada  Waverley (Penguin English Library)   \n",
       "3  sackville, new brunswick, canada             Mother Earth Father Sky   \n",
       "4  sackville, new brunswick, canada                   She Who Remembers   \n",
       "\n",
       "           Book-Author  Year-Of-Publication      Publisher  \n",
       "0           Rona Jaffe               2001.0           Mira  \n",
       "1  William Shakespeare               1981.0  Penguin Books  \n",
       "2         Walter Scott               1981.0  Penguin Books  \n",
       "3         Sue Harrison               1991.0           Avon  \n",
       "4     Linda Lay Shuler               1989.0    Signet Book  "
      ]
     },
     "execution_count": 55,
     "metadata": {},
     "output_type": "execute_result"
    }
   ],
   "source": [
    "traindata = pd.read_csv(\"C:/Users/in_q/book/train.csv\")\n",
    "\n",
    "#칼럼명 확인\n",
    "col_name=traindata.columns\n",
    "print(col_name)\n",
    "\n",
    "# 칼럼수 확인\n",
    "print(traindata.shape)\n",
    "# 칼럼 데이터 type확인\n",
    "print(traindata.dtypes)\n",
    "\n",
    "traindata.head()"
   ]
  },
  {
   "cell_type": "code",
   "execution_count": 14,
   "id": "68eb06bb-630b-4212-99bc-cd0e1b7e6ac0",
   "metadata": {},
   "outputs": [
    {
     "name": "stdout",
     "output_type": "stream",
     "text": [
      "ID                     0\n",
      "User-ID                0\n",
      "Book-ID                0\n",
      "Book-Rating            0\n",
      "Age                    0\n",
      "Location               0\n",
      "Book-Title             0\n",
      "Book-Author            0\n",
      "Year-Of-Publication    0\n",
      "Publisher              0\n",
      "dtype: int64\n"
     ]
    }
   ],
   "source": [
    "# 결측치 확인 \n",
    "print(traindata.isnull().sum())"
   ]
  },
  {
   "cell_type": "code",
   "execution_count": 13,
   "id": "77606d58-bd5e-414a-a90f-20aef6426a70",
   "metadata": {},
   "outputs": [
    {
     "name": "stdout",
     "output_type": "stream",
     "text": [
      "Index([   184,    186,    191,    231,    290,    302,    331,    454,    500,\n",
      "          521,\n",
      "       ...\n",
      "       870657, 870658, 870664, 870672, 870684, 870700, 870751, 870776, 870895,\n",
      "       871300],\n",
      "      dtype='int64', length=11515)\n"
     ]
    },
    {
     "data": {
      "text/html": [
       "<div>\n",
       "<style scoped>\n",
       "    .dataframe tbody tr th:only-of-type {\n",
       "        vertical-align: middle;\n",
       "    }\n",
       "\n",
       "    .dataframe tbody tr th {\n",
       "        vertical-align: top;\n",
       "    }\n",
       "\n",
       "    .dataframe thead th {\n",
       "        text-align: right;\n",
       "    }\n",
       "</style>\n",
       "<table border=\"1\" class=\"dataframe\">\n",
       "  <thead>\n",
       "    <tr style=\"text-align: right;\">\n",
       "      <th></th>\n",
       "      <th>ID</th>\n",
       "      <th>User-ID</th>\n",
       "      <th>Book-ID</th>\n",
       "      <th>Book-Rating</th>\n",
       "      <th>Age</th>\n",
       "      <th>Location</th>\n",
       "      <th>Book-Title</th>\n",
       "      <th>Book-Author</th>\n",
       "      <th>Year-Of-Publication</th>\n",
       "      <th>Publisher</th>\n",
       "    </tr>\n",
       "  </thead>\n",
       "  <tbody>\n",
       "    <tr>\n",
       "      <th>184</th>\n",
       "      <td>TRAIN_000184</td>\n",
       "      <td>USER_00049</td>\n",
       "      <td>BOOK_121460</td>\n",
       "      <td>0</td>\n",
       "      <td>37.0</td>\n",
       "      <td>gaylord, michigan, usa</td>\n",
       "      <td>Bxc Blue Bay Mystery</td>\n",
       "      <td>Gertrude Cha Warner</td>\n",
       "      <td>-1.0</td>\n",
       "      <td>Scholastic Inc</td>\n",
       "    </tr>\n",
       "    <tr>\n",
       "      <th>186</th>\n",
       "      <td>TRAIN_000186</td>\n",
       "      <td>USER_00049</td>\n",
       "      <td>BOOK_175661</td>\n",
       "      <td>10</td>\n",
       "      <td>37.0</td>\n",
       "      <td>gaylord, michigan, usa</td>\n",
       "      <td>Lighthouse Mystery</td>\n",
       "      <td>Gertrude C Warner</td>\n",
       "      <td>-1.0</td>\n",
       "      <td>Scholastic Inc</td>\n",
       "    </tr>\n",
       "    <tr>\n",
       "      <th>191</th>\n",
       "      <td>TRAIN_000191</td>\n",
       "      <td>USER_00049</td>\n",
       "      <td>BOOK_230275</td>\n",
       "      <td>0</td>\n",
       "      <td>37.0</td>\n",
       "      <td>gaylord, michigan, usa</td>\n",
       "      <td>Mike's Mystery</td>\n",
       "      <td>Gertrude Cha Warner</td>\n",
       "      <td>-1.0</td>\n",
       "      <td>Scholastic Inc</td>\n",
       "    </tr>\n",
       "    <tr>\n",
       "      <th>231</th>\n",
       "      <td>TRAIN_000231</td>\n",
       "      <td>USER_00054</td>\n",
       "      <td>BOOK_122689</td>\n",
       "      <td>0</td>\n",
       "      <td>39.0</td>\n",
       "      <td>spring, texas, usa</td>\n",
       "      <td>Charming Billy</td>\n",
       "      <td>Alice Mcdermott</td>\n",
       "      <td>-1.0</td>\n",
       "      <td>Farrar, Straus Giroux</td>\n",
       "    </tr>\n",
       "    <tr>\n",
       "      <th>290</th>\n",
       "      <td>TRAIN_000290</td>\n",
       "      <td>USER_00060</td>\n",
       "      <td>BOOK_165427</td>\n",
       "      <td>0</td>\n",
       "      <td>27.0</td>\n",
       "      <td>los angeles, california, usa</td>\n",
       "      <td>Moon Palace</td>\n",
       "      <td>Paul Auster</td>\n",
       "      <td>-1.0</td>\n",
       "      <td>Faber Faber Inc</td>\n",
       "    </tr>\n",
       "    <tr>\n",
       "      <th>...</th>\n",
       "      <td>...</td>\n",
       "      <td>...</td>\n",
       "      <td>...</td>\n",
       "      <td>...</td>\n",
       "      <td>...</td>\n",
       "      <td>...</td>\n",
       "      <td>...</td>\n",
       "      <td>...</td>\n",
       "      <td>...</td>\n",
       "      <td>...</td>\n",
       "    </tr>\n",
       "    <tr>\n",
       "      <th>870700</th>\n",
       "      <td>TRAIN_870700</td>\n",
       "      <td>USER_92056</td>\n",
       "      <td>BOOK_093874</td>\n",
       "      <td>5</td>\n",
       "      <td>35.0</td>\n",
       "      <td>leucadia, california, usa</td>\n",
       "      <td>High Ground</td>\n",
       "      <td>John Mcgahern</td>\n",
       "      <td>-1.0</td>\n",
       "      <td>Faber Faber Inc</td>\n",
       "    </tr>\n",
       "    <tr>\n",
       "      <th>870751</th>\n",
       "      <td>TRAIN_870751</td>\n",
       "      <td>USER_92058</td>\n",
       "      <td>BOOK_117063</td>\n",
       "      <td>0</td>\n",
       "      <td>24.0</td>\n",
       "      <td>halifax, nova scotia, canada</td>\n",
       "      <td>Hotel Du Lac</td>\n",
       "      <td>Anita Brookner</td>\n",
       "      <td>-1.0</td>\n",
       "      <td>Penguin Putnam~trade</td>\n",
       "    </tr>\n",
       "    <tr>\n",
       "      <th>870776</th>\n",
       "      <td>TRAIN_870776</td>\n",
       "      <td>USER_92058</td>\n",
       "      <td>BOOK_181486</td>\n",
       "      <td>8</td>\n",
       "      <td>24.0</td>\n",
       "      <td>halifax, nova scotia, canada</td>\n",
       "      <td>Laurels Kitchen a Handbook for Vegetarian Co</td>\n",
       "      <td>Laurel Robertson</td>\n",
       "      <td>-1.0</td>\n",
       "      <td>Bantam Doubleday Dell</td>\n",
       "    </tr>\n",
       "    <tr>\n",
       "      <th>870895</th>\n",
       "      <td>TRAIN_870895</td>\n",
       "      <td>USER_92080</td>\n",
       "      <td>BOOK_045027</td>\n",
       "      <td>10</td>\n",
       "      <td>35.0</td>\n",
       "      <td>brookhaven, mississippi, usa</td>\n",
       "      <td>Best of Sisters In Crime</td>\n",
       "      <td>Marilyn Wallace</td>\n",
       "      <td>-1.0</td>\n",
       "      <td>Penguin Putnam~childrens Hc</td>\n",
       "    </tr>\n",
       "    <tr>\n",
       "      <th>871300</th>\n",
       "      <td>TRAIN_871300</td>\n",
       "      <td>USER_92093</td>\n",
       "      <td>BOOK_216824</td>\n",
       "      <td>0</td>\n",
       "      <td>37.0</td>\n",
       "      <td>lakewood, colorado, usa</td>\n",
       "      <td>Girlfriends</td>\n",
       "      <td>Jayne Wexler</td>\n",
       "      <td>-1.0</td>\n",
       "      <td>Running Press</td>\n",
       "    </tr>\n",
       "  </tbody>\n",
       "</table>\n",
       "<p>11515 rows × 10 columns</p>\n",
       "</div>"
      ],
      "text/plain": [
       "                  ID     User-ID      Book-ID  Book-Rating   Age  \\\n",
       "184     TRAIN_000184  USER_00049  BOOK_121460            0  37.0   \n",
       "186     TRAIN_000186  USER_00049  BOOK_175661           10  37.0   \n",
       "191     TRAIN_000191  USER_00049  BOOK_230275            0  37.0   \n",
       "231     TRAIN_000231  USER_00054  BOOK_122689            0  39.0   \n",
       "290     TRAIN_000290  USER_00060  BOOK_165427            0  27.0   \n",
       "...              ...         ...          ...          ...   ...   \n",
       "870700  TRAIN_870700  USER_92056  BOOK_093874            5  35.0   \n",
       "870751  TRAIN_870751  USER_92058  BOOK_117063            0  24.0   \n",
       "870776  TRAIN_870776  USER_92058  BOOK_181486            8  24.0   \n",
       "870895  TRAIN_870895  USER_92080  BOOK_045027           10  35.0   \n",
       "871300  TRAIN_871300  USER_92093  BOOK_216824            0  37.0   \n",
       "\n",
       "                            Location  \\\n",
       "184           gaylord, michigan, usa   \n",
       "186           gaylord, michigan, usa   \n",
       "191           gaylord, michigan, usa   \n",
       "231               spring, texas, usa   \n",
       "290     los angeles, california, usa   \n",
       "...                              ...   \n",
       "870700     leucadia, california, usa   \n",
       "870751  halifax, nova scotia, canada   \n",
       "870776  halifax, nova scotia, canada   \n",
       "870895  brookhaven, mississippi, usa   \n",
       "871300       lakewood, colorado, usa   \n",
       "\n",
       "                                          Book-Title          Book-Author  \\\n",
       "184                             Bxc Blue Bay Mystery  Gertrude Cha Warner   \n",
       "186                               Lighthouse Mystery    Gertrude C Warner   \n",
       "191                                   Mike's Mystery  Gertrude Cha Warner   \n",
       "231                                   Charming Billy      Alice Mcdermott   \n",
       "290                                      Moon Palace          Paul Auster   \n",
       "...                                              ...                  ...   \n",
       "870700                                   High Ground        John Mcgahern   \n",
       "870751                                  Hotel Du Lac       Anita Brookner   \n",
       "870776  Laurels Kitchen a Handbook for Vegetarian Co     Laurel Robertson   \n",
       "870895                      Best of Sisters In Crime      Marilyn Wallace   \n",
       "871300                                   Girlfriends         Jayne Wexler   \n",
       "\n",
       "        Year-Of-Publication                    Publisher  \n",
       "184                    -1.0               Scholastic Inc  \n",
       "186                    -1.0               Scholastic Inc  \n",
       "191                    -1.0               Scholastic Inc  \n",
       "231                    -1.0        Farrar, Straus Giroux  \n",
       "290                    -1.0              Faber Faber Inc  \n",
       "...                     ...                          ...  \n",
       "870700                 -1.0              Faber Faber Inc  \n",
       "870751                 -1.0         Penguin Putnam~trade  \n",
       "870776                 -1.0        Bantam Doubleday Dell  \n",
       "870895                 -1.0  Penguin Putnam~childrens Hc  \n",
       "871300                 -1.0                Running Press  \n",
       "\n",
       "[11515 rows x 10 columns]"
      ]
     },
     "execution_count": 13,
     "metadata": {},
     "output_type": "execute_result"
    }
   ],
   "source": [
    "#Year-Of-Publication의 -1의 값이 결측 또는 알 수 없음 \n",
    "index=traindata.index[traindata['Year-Of-Publication'] == -1 ]\n",
    "print(index)\n",
    "traindata.loc[index]"
   ]
  },
  {
   "cell_type": "code",
   "execution_count": 23,
   "id": "7ceca610-a941-48ef-9e69-624c29f85195",
   "metadata": {},
   "outputs": [
    {
     "data": {
      "text/plain": [
       "<Axes: xlabel='Book-Rating', ylabel='count'>"
      ]
     },
     "execution_count": 23,
     "metadata": {},
     "output_type": "execute_result"
    },
    {
     "data": {
      "image/png": "[encoded data removed]",
      "text/plain": [
       "<Figure size 640x480 with 1 Axes>"
      ]
     },
     "metadata": {},
     "output_type": "display_data"
    }
   ],
   "source": [
    "rating=traindata['Book-Rating'].value_counts().reset_index()\n",
    "\n",
    "sns.barplot(x='Book-Rating' , y='count' , data= rating)"
   ]
  },
  {
   "cell_type": "code",
   "execution_count": 33,
   "id": "61b06c1f-b165-436a-97c1-b8f548820761",
   "metadata": {},
   "outputs": [
    {
     "data": {
      "image/png": "[encoded data removed]",
      "text/plain": [
       "<Figure size 640x480 with 1 Axes>"
      ]
     },
     "metadata": {},
     "output_type": "display_data"
    }
   ],
   "source": [
    "sns.histplot(traindata['Age'],bins =100)\n",
    "plt.xlim(0,150)\n",
    "plt.show()"
   ]
  },
  {
   "cell_type": "code",
   "execution_count": 29,
   "id": "6e8a72eb-5af9-457d-b34b-e29806648956",
   "metadata": {},
   "outputs": [
    {
     "data": {
      "text/plain": [
       "<Axes: xlabel='Book-Rating', ylabel='Age'>"
      ]
     },
     "execution_count": 29,
     "metadata": {},
     "output_type": "execute_result"
    },
    {
     "data": {
      "image/png": "[encoded data removed]",
      "text/plain": [
       "<Figure size 640x480 with 1 Axes>"
      ]
     },
     "metadata": {},
     "output_type": "display_data"
    }
   ],
   "source": [
    "Rating_Age = traindata.groupby('Book-Rating')['Age'].mean().reset_index()\n",
    "sns.barplot(x = 'Book-Rating', y = 'Age', data= Rating_Age)"
   ]
  },
  {
   "cell_type": "code",
   "execution_count": 71,
   "id": "cff27717-d2d7-456e-a259-9fc2dea73aec",
   "metadata": {},
   "outputs": [
    {
     "name": "stdout",
     "output_type": "stream",
     "text": [
      "20971\n"
     ]
    },
    {
     "data": {
      "text/plain": [
       "Location\n",
       "toronto, ontario, canada    12267\n",
       "n/a, n/a, n/a               11161\n",
       "chicago, illinois, usa       7214\n",
       "seattle, washington, usa     6967\n",
       "ottawa, ontario, canada      6915\n",
       "Name: count, dtype: int64"
      ]
     },
     "execution_count": 71,
     "metadata": {},
     "output_type": "execute_result"
    }
   ],
   "source": [
    "locationdata=traindata['Location'].unique()\n",
    "print(len(locationdata))\n",
    "locationcount=traindata['Location'].value_counts().sort_values(ascending = False)\n",
    "locationcount.head()"
   ]
  },
  {
   "cell_type": "code",
   "execution_count": 72,
   "id": "f24f4ea9-87d6-4cae-872c-30657dc351a2",
   "metadata": {},
   "outputs": [
    {
     "name": "stdout",
     "output_type": "stream",
     "text": [
      "217829\n"
     ]
    },
    {
     "data": {
      "text/plain": [
       "Book-Title\n",
       "Wild Animus                   2502\n",
       "The Da Vinci Code              895\n",
       "The Nanny Diaries: A Novel     828\n",
       "The Lovely Bones: A Novel      768\n",
       "A Painted House                761\n",
       "Name: count, dtype: int64"
      ]
     },
     "execution_count": 72,
     "metadata": {},
     "output_type": "execute_result"
    }
   ],
   "source": [
    "titledata=traindata['Book-Title'].unique()\n",
    "print(len(titledata))\n",
    "titlecount=traindata['Book-Title'].value_counts().sort_values(ascending = False)\n",
    "titlecount.head()"
   ]
  },
  {
   "cell_type": "code",
   "execution_count": 73,
   "id": "9da5557a-81ac-4a28-9434-3a1e4c070a17",
   "metadata": {},
   "outputs": [
    {
     "name": "stdout",
     "output_type": "stream",
     "text": [
      "92635\n"
     ]
    },
    {
     "data": {
      "text/plain": [
       "Book-Author\n",
       "Stephen King          8467\n",
       "Nora Roberts          6934\n",
       "John Grisham          5283\n",
       "James Patterson       5020\n",
       "Mary Higgins Clark    3983\n",
       "Name: count, dtype: int64"
      ]
     },
     "execution_count": 73,
     "metadata": {},
     "output_type": "execute_result"
    }
   ],
   "source": [
    "authordata = traindata['Book-Author'].unique()\n",
    "print(len(authordata))\n",
    "authorcount = traindata['Book-Author'].value_counts().sort_values(ascending = False)\n",
    "authorcount.head()"
   ]
  },
  {
   "cell_type": "code",
   "execution_count": 74,
   "id": "105aca9f-d5cd-4342-949e-09947c17b246",
   "metadata": {},
   "outputs": [
    {
     "name": "stdout",
     "output_type": "stream",
     "text": [
      "15505\n"
     ]
    },
    {
     "data": {
      "text/plain": [
       "Publisher\n",
       "Ballantine Books            29696\n",
       "Pocket                      27212\n",
       "Berkley Publishing Group    23647\n",
       "Harlequin                   21362\n",
       "Warner Books                21263\n",
       "Name: count, dtype: int64"
      ]
     },
     "execution_count": 74,
     "metadata": {},
     "output_type": "execute_result"
    }
   ],
   "source": [
    "publisherdata = traindata['Publisher'].unique()\n",
    "print(len(publisherdata))\n",
    "publishercount = traindata['Publisher'].value_counts().sort_values(ascending = False)\n",
    "publishercount.head()"
   ]
  },
  {
   "cell_type": "code",
   "execution_count": 75,
   "id": "2e14c017-8ad5-445d-828f-45dc5ecdbf4b",
   "metadata": {},
   "outputs": [
    {
     "name": "stdout",
     "output_type": "stream",
     "text": [
      "83256\n"
     ]
    },
    {
     "data": {
      "text/plain": [
       "User-ID\n",
       "USER_56601    11143\n",
       "USER_54845     6456\n",
       "USER_52453     5814\n",
       "USER_73501     4290\n",
       "USER_03411     3453\n",
       "Name: count, dtype: int64"
      ]
     },
     "execution_count": 75,
     "metadata": {},
     "output_type": "execute_result"
    }
   ],
   "source": [
    "userdata = traindata['User-ID'].unique()\n",
    "print(len(userdata))\n",
    "usercount = traindata['User-ID'].value_counts().sort_values(ascending = False)\n",
    "usercount.head()"
   ]
  }
 ],
 "metadata": {
  "kernelspec": {
   "display_name": "Python 3 (ipykernel)",
   "language": "python",
   "name": "python3"
  },
  "language_info": {
   "codemirror_mode": {
    "name": "ipython",
    "version": 3
   },
   "file_extension": ".py",
   "mimetype": "text/x-python",
   "name": "python",
   "nbconvert_exporter": "python",
   "pygments_lexer": "ipython3",
   "version": "3.11.5"
  }
 },
 "nbformat": 4,
 "nbformat_minor": 5
}
