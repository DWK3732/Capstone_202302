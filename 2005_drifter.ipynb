{
 "cells": [
  {
   "cell_type": "code",
   "execution_count": 2,
   "id": "ad171b6f-af52-44b6-9867-beb1af7af682",
   "metadata": {
    "tags": []
   },
   "outputs": [],
   "source": [
    "import pandas as pd\n",
    "import netCDF4 as nc\n",
    "import numpy as np"
   ]
  },
  {
   "cell_type": "code",
   "execution_count": 3,
   "id": "5cb33ecd-f7e3-4cba-b70c-ffc8ee9c33b0",
   "metadata": {
    "tags": []
   },
   "outputs": [],
   "source": [
    "drifter_2005=nc.Dataset('NOAA_drifter_2005.nc','r')"
   ]
  },
  {
   "cell_type": "code",
   "execution_count": 4,
   "id": "50c9019f-ab53-495c-b466-1526f08a823f",
   "metadata": {
    "tags": []
   },
   "outputs": [],
   "source": [
    "times_2005=drifter_2005.variables['times'][:]\n",
    "lons_2005=drifter_2005.variables['lons'][:]\n",
    "lats_2005=drifter_2005.variables['lats'][:]\n",
    "drifter_times = pd.DataFrame(times_2005)\n",
    "drifter_lons = pd.DataFrame(lons_2005)\n",
    "drifter_lats=pd.DataFrame(lats_2005)\n",
    "drifter_times=drifter_times*24"
   ]
  },
  {
   "cell_type": "code",
   "execution_count": 14,
   "id": "6285716c-7a0a-4ed4-93d1-01e396e6226b",
   "metadata": {},
   "outputs": [],
   "source": [
    "for i in range(31):\n",
    "    var=f\"drifter{i+1}\"\n",
    "    globals()[var]=pd.DataFrame({'time':drifter_times.loc[i] , 'lons':drifter_lons.loc[i], 'lats' : drifter_lats.loc[i]}).dropna()\n",
    "\n",
    "drifter_2005.close()"
   ]
  },
  {
   "cell_type": "code",
   "execution_count": 26,
   "id": "2ef0ae04-94c2-4c5b-8d01-c86804fc0076",
   "metadata": {},
   "outputs": [
    {
     "data": {
      "text/html": [
       "<div>\n",
       "<style scoped>\n",
       "    .dataframe tbody tr th:only-of-type {\n",
       "        vertical-align: middle;\n",
       "    }\n",
       "\n",
       "    .dataframe tbody tr th {\n",
       "        vertical-align: top;\n",
       "    }\n",
       "\n",
       "    .dataframe thead th {\n",
       "        text-align: right;\n",
       "    }\n",
       "</style>\n",
       "<table border=\"1\" class=\"dataframe\">\n",
       "  <thead>\n",
       "    <tr style=\"text-align: right;\">\n",
       "      <th></th>\n",
       "      <th>time</th>\n",
       "      <th>lons</th>\n",
       "      <th>lats</th>\n",
       "    </tr>\n",
       "  </thead>\n",
       "  <tbody>\n",
       "    <tr>\n",
       "      <th>0</th>\n",
       "      <td>7518.0</td>\n",
       "      <td>129.237000</td>\n",
       "      <td>34.986000</td>\n",
       "    </tr>\n",
       "    <tr>\n",
       "      <th>1</th>\n",
       "      <td>7524.0</td>\n",
       "      <td>129.382996</td>\n",
       "      <td>35.127998</td>\n",
       "    </tr>\n",
       "    <tr>\n",
       "      <th>2</th>\n",
       "      <td>7530.0</td>\n",
       "      <td>129.531006</td>\n",
       "      <td>35.255001</td>\n",
       "    </tr>\n",
       "    <tr>\n",
       "      <th>3</th>\n",
       "      <td>7536.0</td>\n",
       "      <td>129.645996</td>\n",
       "      <td>35.409000</td>\n",
       "    </tr>\n",
       "    <tr>\n",
       "      <th>4</th>\n",
       "      <td>7542.0</td>\n",
       "      <td>129.748993</td>\n",
       "      <td>35.548000</td>\n",
       "    </tr>\n",
       "    <tr>\n",
       "      <th>...</th>\n",
       "      <td>...</td>\n",
       "      <td>...</td>\n",
       "      <td>...</td>\n",
       "    </tr>\n",
       "    <tr>\n",
       "      <th>1407</th>\n",
       "      <td>15960.0</td>\n",
       "      <td>141.531998</td>\n",
       "      <td>43.956001</td>\n",
       "    </tr>\n",
       "    <tr>\n",
       "      <th>1408</th>\n",
       "      <td>15966.0</td>\n",
       "      <td>141.561005</td>\n",
       "      <td>43.969002</td>\n",
       "    </tr>\n",
       "    <tr>\n",
       "      <th>1409</th>\n",
       "      <td>15972.0</td>\n",
       "      <td>141.554001</td>\n",
       "      <td>43.960999</td>\n",
       "    </tr>\n",
       "    <tr>\n",
       "      <th>1410</th>\n",
       "      <td>15978.0</td>\n",
       "      <td>141.550003</td>\n",
       "      <td>43.952000</td>\n",
       "    </tr>\n",
       "    <tr>\n",
       "      <th>1411</th>\n",
       "      <td>15984.0</td>\n",
       "      <td>141.563004</td>\n",
       "      <td>43.937000</td>\n",
       "    </tr>\n",
       "  </tbody>\n",
       "</table>\n",
       "<p>1412 rows × 3 columns</p>\n",
       "</div>"
      ],
      "text/plain": [
       "         time        lons       lats\n",
       "0      7518.0  129.237000  34.986000\n",
       "1      7524.0  129.382996  35.127998\n",
       "2      7530.0  129.531006  35.255001\n",
       "3      7536.0  129.645996  35.409000\n",
       "4      7542.0  129.748993  35.548000\n",
       "...       ...         ...        ...\n",
       "1407  15960.0  141.531998  43.956001\n",
       "1408  15966.0  141.561005  43.969002\n",
       "1409  15972.0  141.554001  43.960999\n",
       "1410  15978.0  141.550003  43.952000\n",
       "1411  15984.0  141.563004  43.937000\n",
       "\n",
       "[1412 rows x 3 columns]"
      ]
     },
     "execution_count": 26,
     "metadata": {},
     "output_type": "execute_result"
    }
   ],
   "source": [
    "drifter19"
   ]
  }
 ],
 "metadata": {
  "kernelspec": {
   "display_name": "Python 3 (ipykernel)",
   "language": "python",
   "name": "python3"
  },
  "language_info": {
   "codemirror_mode": {
    "name": "ipython",
    "version": 3
   },
   "file_extension": ".py",
   "mimetype": "text/x-python",
   "name": "python",
   "nbconvert_exporter": "python",
   "pygments_lexer": "ipython3",
   "version": "3.11.5"
  }
 },
 "nbformat": 4,
 "nbformat_minor": 5
}
